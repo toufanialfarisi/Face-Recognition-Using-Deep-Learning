{
 "cells": [
  {
   "cell_type": "code",
   "execution_count": 1,
   "metadata": {},
   "outputs": [
    {
     "name": "stderr",
     "output_type": "stream",
     "text": [
      "Using TensorFlow backend.\n"
     ]
    }
   ],
   "source": [
    "import numpy as np\n",
    "import tensorflow as tf\n",
    "from keras.models import Model\n",
    "from keras.layers import Input, Activation, Dense, Conv2D, MaxPooling2D, ZeroPadding2D, Flatten\n",
    "from keras.preprocessing.image import ImageDataGenerator\n",
    "from keras.optimizers import Adam\n",
    "from keras.callbacks import TensorBoard\n",
    "import matplotlib.pyplot as plt"
   ]
  },
  {
   "cell_type": "raw",
   "metadata": {},
   "source": [
    "import glob\n",
    "import os\n",
    "a = glob.glob('datasets/train/*')\n",
    "names = ['surahmin', 'rangga', 'gubernur', 'zul', 'cezar', 'toufan']\n",
    "for name in names:\n",
    "    file = glob.glob(validation_data_dir+'/{}/*'.format(name))\n",
    "    file.sort()\n",
    "    file_delete = file[:-5]\n",
    "    for j in file_delete:\n",
    "        os.remove(j)"
   ]
  },
  {
   "cell_type": "code",
   "execution_count": 2,
   "metadata": {},
   "outputs": [],
   "source": [
    "# Images Dimensions\n",
    "img_width, img_height = 128, 128\n",
    "# img_width, img_height = 224, 224\n",
    "train_data_dir = 'datasets/train'\n",
    "validation_data_dir = 'datasets/valid'\n",
    "\n",
    "nb_train_samples = 800\n",
    "nb_validation_samples = 240\n",
    "epochs = 50\n",
    "batch_size = 16\n",
    "\n",
    "# TensorBoard Callbacks\n",
    "callbacks = TensorBoard(log_dir='./Graph')"
   ]
  },
  {
   "cell_type": "code",
   "execution_count": 3,
   "metadata": {},
   "outputs": [
    {
     "name": "stdout",
     "output_type": "stream",
     "text": [
      "Found 121 images belonging to 6 classes.\n",
      "Found 30 images belonging to 6 classes.\n"
     ]
    }
   ],
   "source": [
    "# Training Data Augmentation\n",
    "train_datagen = ImageDataGenerator(\n",
    "    rescale=1. / 255,\n",
    "    shear_range=0.2,\n",
    "    zoom_range=0.2,\n",
    "    horizontal_flip=True)\n",
    "\n",
    "# Rescale Testing Data\n",
    "test_datagen = ImageDataGenerator(rescale=1. / 255)\n",
    "\n",
    "# Train Data Generator\n",
    "train_generator = train_datagen.flow_from_directory(\n",
    "    train_data_dir,\n",
    "    target_size=(img_width, img_height),\n",
    "    batch_size=batch_size,\n",
    "    class_mode='categorical')\n",
    "\n",
    "# Testing Data Generator\n",
    "validation_generator = test_datagen.flow_from_directory(\n",
    "    validation_data_dir,\n",
    "    target_size=(img_width, img_height),\n",
    "    batch_size=batch_size,\n",
    "class_mode='categorical')"
   ]
  },
  {
   "cell_type": "code",
   "execution_count": 4,
   "metadata": {},
   "outputs": [],
   "source": [
    "# # Feature Extraction Layer\n",
    "# inputs = Input(shape=(img_width, img_height, 3))\n",
    "# conv_layer = Conv2D(16, (5, 5), strides=(3,3), activation='relu')(inputs) \n",
    "# conv_layer = ZeroPadding2D(padding=(1,1))(conv_layer) \n",
    "# conv_layer = Conv2D(32, (5, 5), strides=(3,3), activation='relu')(conv_layer) \n",
    "# conv_layer = MaxPooling2D((2, 2))(conv_layer) \n",
    "# conv_layer = Conv2D(64, (3, 3), strides=(1,1), activation='relu')(conv_layer) \n",
    "# conv_layer = Conv2D(64, (3, 3), strides=(1,1), activation='relu')(conv_layer)\n",
    "\n",
    "# # Flatten Layer\n",
    "# flatten = Flatten()(conv_layer) \n",
    "\n",
    "# # Fully Connected Layer\n",
    "# fc_layer = Dense(32, activation='relu')(flatten)\n",
    "# outputs = Dense(6, activation='sigmoid')(fc_layer)\n",
    "\n",
    "# model = Model(inputs=inputs, outputs=outputs)\n",
    "\n",
    "# # Adam Optimizer and Cross Entropy Loss\n",
    "# adam = Adam(lr=0.0001)\n",
    "# model.compile(optimizer=adam, loss='categorical_crossentropy', metrics=['accuracy'])\n",
    "\n",
    "# # Print Model Summary\n",
    "# # print(model.summary())"
   ]
  },
  {
   "cell_type": "code",
   "execution_count": 5,
   "metadata": {},
   "outputs": [],
   "source": [
    "# # pretrained\n",
    "# import keras\n",
    "# shape = (img_width, img_height, 3)\n",
    "# trained_model = keras.applications.resnet50.ResNet50(include_top=False, \n",
    "#                                                     weights='imagenet', \n",
    "#                                                     input_tensor=None, \n",
    "#                                                     input_shape=shape, \n",
    "#                                                     pooling='max')\n",
    "# model = keras.models.Sequential()\n",
    "# model.add(trained_model)\n",
    "# # model.add(keras.layers.Flatten())\n",
    "# model.add(keras.layers.Dense(6, activation='softmax'))\n",
    "# model.summary()"
   ]
  },
  {
   "cell_type": "code",
   "execution_count": 5,
   "metadata": {},
   "outputs": [],
   "source": [
    "# keras model\n",
    "from keras.layers import Conv2D, MaxPool2D, Flatten, Dense, BatchNormalization, Dropout\n",
    "from keras.models import Input, Model, Sequential\n",
    "# mulai membuat arsitektur NN dengan tipe fully connected layer\n",
    "from keras.layers import BatchNormalization, Dropout"
   ]
  },
  {
   "cell_type": "code",
   "execution_count": 6,
   "metadata": {},
   "outputs": [],
   "source": [
    "# batch-conv-pool-dropout\n",
    "shape = (img_width, img_height, 3)\n",
    "input_layer    = Input(shape=shape)\n",
    "batch = BatchNormalization(input_shape=shape)(input_layer)\n",
    "conv = Conv2D(16, kernel_size=(5,5), padding='SAME', activation='relu', name='conv_layer_1')(batch)\n",
    "pool = MaxPool2D(pool_size=(4,4), name='maxpooling_1')(conv)\n",
    "drop = Dropout(0.25)(pool)\n",
    "\n",
    "batch1 = BatchNormalization(input_shape=shape)(drop)\n",
    "conv1 = Conv2D(16, kernel_size=(5,5), padding='SAME', activation='relu', name='conv_layer_2')(batch1)\n",
    "pool1 = MaxPool2D(pool_size=(4,4), name='maxpooing_2')(conv1)\n",
    "drop1 = Dropout(0.25)(pool1)\n",
    "\n",
    "flatten_layer = Flatten(name='flatten_layer')(drop1)\n",
    "full_con_layer = Dense(512, activation='relu', name='fully_connected_layer')(flatten_layer)\n",
    "full_con_layer1 = Dense(128, activation='relu', name='fully_connected_layer_1')(full_con_layer)\n",
    "drop3 = Dropout(0.5)(full_con_layer1)\n",
    "output_layer = Dense(6, activation='softmax', name='output_layer')(drop3)\n",
    "model = Model(inputs=input_layer, outputs=output_layer)\n",
    "# model.summary()"
   ]
  },
  {
   "cell_type": "code",
   "execution_count": 7,
   "metadata": {},
   "outputs": [],
   "source": [
    "adam = Adam(lr=0.0001)\n",
    "model.compile(optimizer=adam, loss='binary_crossentropy', metrics=['accuracy'])"
   ]
  },
  {
   "cell_type": "code",
   "execution_count": 9,
   "metadata": {},
   "outputs": [
    {
     "name": "stdout",
     "output_type": "stream",
     "text": [
      "Epoch 1/50\n",
      "50/50 [==============================] - 18s 370ms/step - loss: 0.4917 - acc: 0.8155 - val_loss: 0.4393 - val_acc: 0.8333\n",
      "Epoch 2/50\n",
      "50/50 [==============================] - 17s 335ms/step - loss: 0.4521 - acc: 0.8310 - val_loss: 0.4502 - val_acc: 0.8333\n",
      "Epoch 3/50\n",
      "50/50 [==============================] - 17s 341ms/step - loss: 0.4359 - acc: 0.8312 - val_loss: 0.4435 - val_acc: 0.8333\n",
      "Epoch 4/50\n",
      "50/50 [==============================] - 17s 334ms/step - loss: 0.4252 - acc: 0.8374 - val_loss: 0.4425 - val_acc: 0.8333\n",
      "Epoch 5/50\n",
      "50/50 [==============================] - 17s 332ms/step - loss: 0.4206 - acc: 0.8368 - val_loss: 0.4392 - val_acc: 0.8333\n",
      "Epoch 6/50\n",
      "50/50 [==============================] - 17s 334ms/step - loss: 0.4151 - acc: 0.8371 - val_loss: 0.4331 - val_acc: 0.8333\n",
      "Epoch 7/50\n",
      "50/50 [==============================] - 17s 344ms/step - loss: 0.4127 - acc: 0.8385 - val_loss: 0.4251 - val_acc: 0.8333\n",
      "Epoch 8/50\n",
      "50/50 [==============================] - 17s 330ms/step - loss: 0.4067 - acc: 0.8388 - val_loss: 0.4199 - val_acc: 0.8333\n",
      "Epoch 9/50\n",
      "50/50 [==============================] - 17s 331ms/step - loss: 0.3947 - acc: 0.8408 - val_loss: 0.4094 - val_acc: 0.8333\n",
      "Epoch 10/50\n",
      "50/50 [==============================] - 16s 319ms/step - loss: 0.3864 - acc: 0.8461 - val_loss: 0.4065 - val_acc: 0.8333\n",
      "Epoch 11/50\n",
      "50/50 [==============================] - 18s 353ms/step - loss: 0.3828 - acc: 0.8443 - val_loss: 0.4054 - val_acc: 0.8333\n",
      "Epoch 12/50\n",
      "50/50 [==============================] - 17s 337ms/step - loss: 0.3609 - acc: 0.8538 - val_loss: 0.3980 - val_acc: 0.8392\n",
      "Epoch 13/50\n",
      "50/50 [==============================] - 17s 338ms/step - loss: 0.3600 - acc: 0.8511 - val_loss: 0.3840 - val_acc: 0.8333\n",
      "Epoch 14/50\n",
      "50/50 [==============================] - 16s 326ms/step - loss: 0.3432 - acc: 0.8564 - val_loss: 0.3729 - val_acc: 0.8333\n",
      "Epoch 15/50\n",
      "50/50 [==============================] - 17s 343ms/step - loss: 0.3444 - acc: 0.8561 - val_loss: 0.3701 - val_acc: 0.8445\n",
      "Epoch 16/50\n",
      "50/50 [==============================] - 17s 330ms/step - loss: 0.3210 - acc: 0.8692 - val_loss: 0.3630 - val_acc: 0.8562\n",
      "Epoch 17/50\n",
      "50/50 [==============================] - 17s 339ms/step - loss: 0.3143 - acc: 0.8691 - val_loss: 0.3706 - val_acc: 0.8609\n",
      "Epoch 18/50\n",
      "50/50 [==============================] - 17s 335ms/step - loss: 0.2968 - acc: 0.8795 - val_loss: 0.3658 - val_acc: 0.8702\n",
      "Epoch 19/50\n",
      "50/50 [==============================] - 17s 335ms/step - loss: 0.2988 - acc: 0.8791 - val_loss: 0.3736 - val_acc: 0.8564\n",
      "Epoch 20/50\n",
      "50/50 [==============================] - 16s 326ms/step - loss: 0.2812 - acc: 0.8847 - val_loss: 0.3790 - val_acc: 0.8385\n",
      "Epoch 21/50\n",
      "50/50 [==============================] - 18s 353ms/step - loss: 0.2708 - acc: 0.8893 - val_loss: 0.3563 - val_acc: 0.8557\n",
      "Epoch 22/50\n",
      "50/50 [==============================] - 17s 333ms/step - loss: 0.2569 - acc: 0.8978 - val_loss: 0.3676 - val_acc: 0.8614\n",
      "Epoch 23/50\n",
      "50/50 [==============================] - 17s 344ms/step - loss: 0.2556 - acc: 0.8977 - val_loss: 0.3695 - val_acc: 0.8735\n",
      "Epoch 24/50\n",
      "50/50 [==============================] - 17s 340ms/step - loss: 0.2507 - acc: 0.8977 - val_loss: 0.3777 - val_acc: 0.8650\n",
      "Epoch 25/50\n",
      "50/50 [==============================] - 17s 338ms/step - loss: 0.2359 - acc: 0.9028 - val_loss: 0.3739 - val_acc: 0.8512\n",
      "Epoch 26/50\n",
      "50/50 [==============================] - 17s 330ms/step - loss: 0.2251 - acc: 0.9038 - val_loss: 0.3548 - val_acc: 0.8525\n",
      "Epoch 27/50\n",
      "50/50 [==============================] - 18s 351ms/step - loss: 0.2166 - acc: 0.9150 - val_loss: 0.3830 - val_acc: 0.8356\n",
      "Epoch 28/50\n",
      "50/50 [==============================] - 17s 336ms/step - loss: 0.2034 - acc: 0.9167 - val_loss: 0.3676 - val_acc: 0.8614\n",
      "Epoch 29/50\n",
      "50/50 [==============================] - 17s 344ms/step - loss: 0.1864 - acc: 0.9279 - val_loss: 0.3714 - val_acc: 0.8423\n",
      "Epoch 30/50\n",
      "50/50 [==============================] - 17s 333ms/step - loss: 0.2034 - acc: 0.9173 - val_loss: 0.3730 - val_acc: 0.8510\n",
      "Epoch 31/50\n",
      "50/50 [==============================] - 17s 337ms/step - loss: 0.1853 - acc: 0.9228 - val_loss: 0.3888 - val_acc: 0.8490\n",
      "Epoch 32/50\n",
      "50/50 [==============================] - 17s 336ms/step - loss: 0.1844 - acc: 0.9242 - val_loss: 0.3703 - val_acc: 0.8555\n",
      "Epoch 33/50\n",
      "50/50 [==============================] - 17s 343ms/step - loss: 0.1762 - acc: 0.9296 - val_loss: 0.3847 - val_acc: 0.8393\n",
      "Epoch 34/50\n",
      "50/50 [==============================] - 17s 344ms/step - loss: 0.1562 - acc: 0.9364 - val_loss: 0.4018 - val_acc: 0.8348\n",
      "Epoch 35/50\n",
      "50/50 [==============================] - 17s 338ms/step - loss: 0.1552 - acc: 0.9401 - val_loss: 0.3885 - val_acc: 0.8482\n",
      "Epoch 36/50\n",
      "50/50 [==============================] - 17s 348ms/step - loss: 0.1429 - acc: 0.9415 - val_loss: 0.4370 - val_acc: 0.8348\n",
      "Epoch 37/50\n",
      "50/50 [==============================] - 17s 330ms/step - loss: 0.1350 - acc: 0.9442 - val_loss: 0.4069 - val_acc: 0.8371\n",
      "Epoch 38/50\n",
      "50/50 [==============================] - 17s 335ms/step - loss: 0.1373 - acc: 0.9475 - val_loss: 0.4307 - val_acc: 0.8252\n",
      "Epoch 39/50\n",
      "50/50 [==============================] - 17s 344ms/step - loss: 0.1321 - acc: 0.9479 - val_loss: 0.4155 - val_acc: 0.8571\n",
      "Epoch 40/50\n",
      "50/50 [==============================] - 17s 344ms/step - loss: 0.1325 - acc: 0.9479 - val_loss: 0.4257 - val_acc: 0.8378\n",
      "Epoch 41/50\n",
      "50/50 [==============================] - 17s 344ms/step - loss: 0.1247 - acc: 0.9497 - val_loss: 0.4133 - val_acc: 0.8519\n",
      "Epoch 42/50\n",
      "50/50 [==============================] - 16s 323ms/step - loss: 0.1142 - acc: 0.9542 - val_loss: 0.4719 - val_acc: 0.8525\n",
      "Epoch 43/50\n",
      "50/50 [==============================] - 18s 355ms/step - loss: 0.1138 - acc: 0.9528 - val_loss: 0.4558 - val_acc: 0.8527\n",
      "Epoch 44/50\n",
      "50/50 [==============================] - 17s 342ms/step - loss: 0.1118 - acc: 0.9596 - val_loss: 0.4664 - val_acc: 0.8451\n",
      "Epoch 45/50\n",
      "50/50 [==============================] - 17s 347ms/step - loss: 0.1050 - acc: 0.9607 - val_loss: 0.5053 - val_acc: 0.8155\n",
      "Epoch 46/50\n",
      "50/50 [==============================] - 17s 336ms/step - loss: 0.1009 - acc: 0.9645 - val_loss: 0.5029 - val_acc: 0.8267\n",
      "Epoch 47/50\n",
      "50/50 [==============================] - 17s 336ms/step - loss: 0.0945 - acc: 0.9614 - val_loss: 0.4895 - val_acc: 0.8237\n",
      "Epoch 48/50\n",
      "50/50 [==============================] - 17s 339ms/step - loss: 0.1002 - acc: 0.9579 - val_loss: 0.4487 - val_acc: 0.8341\n",
      "Epoch 49/50\n",
      "50/50 [==============================] - 17s 332ms/step - loss: 0.0876 - acc: 0.9667 - val_loss: 0.5288 - val_acc: 0.8385\n",
      "Epoch 50/50\n",
      "50/50 [==============================] - 17s 334ms/step - loss: 0.0851 - acc: 0.9655 - val_loss: 0.5129 - val_acc: 0.8304\n"
     ]
    }
   ],
   "source": [
    "history = model.fit_generator(\n",
    "    train_generator,\n",
    "    steps_per_epoch=nb_train_samples // batch_size,\n",
    "    epochs=50,\n",
    "    validation_data=validation_generator,\n",
    "    validation_steps=nb_validation_samples // batch_size, \n",
    "    callbacks=[callbacks])\n",
    "\n",
    "model.save('tinyDarknet-2.h5')"
   ]
  },
  {
   "cell_type": "code",
   "execution_count": 16,
   "metadata": {},
   "outputs": [
    {
     "data": {
      "image/png": "[encoded data removed]",
      "text/plain": [
       "<Figure size 1080x216 with 2 Axes>"
      ]
     },
     "metadata": {
      "needs_background": "light"
     },
     "output_type": "display_data"
    }
   ],
   "source": [
    "# nilai-nilai loss-nya\n",
    "loss = history.history['loss']\n",
    "\n",
    "# nilai-nilai val_loss-nya\n",
    "val_loss = history.history['val_loss']\n",
    "\n",
    "# nilai-nilai akurasi-nya\n",
    "acc = history.history['acc']\n",
    "\n",
    "# nilai-nilai val_acc-nya\n",
    "val_acc = history.history['val_acc']\n",
    "\n",
    "# menentukan sumbu x nya dari 0 sampai dengan banyaknya jumlah nilai loss/acc\n",
    "sumbu_x = np.arange(0, len(loss))\n",
    "\n",
    "# memasukan library plotting (matplotlib)\n",
    "import matplotlib.pyplot as plt\n",
    "\n",
    "# grafik plot untuk melihat loss\n",
    "plt.figure(figsize=(15,3))\n",
    "plt.subplot(1,2,1)\n",
    "plt.title('grafik loss')\n",
    "plt.plot(sumbu_x, loss, label='loss')\n",
    "plt.plot(sumbu_x, val_loss, label='val_loss')\n",
    "plt.legend()\n",
    "\n",
    "# grafik plot untuk melihat akurasinya\n",
    "plt.subplot(1,2,2)\n",
    "plt.title('grafik acc')\n",
    "plt.plot(sumbu_x, acc, label='acc')\n",
    "plt.plot(sumbu_x, val_acc, label='val_acc')\n",
    "plt.legend()\n",
    "plt.show()"
   ]
  },
  {
   "cell_type": "code",
   "execution_count": 31,
   "metadata": {},
   "outputs": [],
   "source": [
    "model.save('batch-conv-pool-dropout.h5')"
   ]
  },
  {
   "cell_type": "code",
   "execution_count": null,
   "metadata": {},
   "outputs": [],
   "source": []
  }
 ],
 "metadata": {
  "kernelspec": {
   "display_name": "Python [conda env:dnn]",
   "language": "python",
   "name": "conda-env-dnn-py"
  },
  "language_info": {
   "codemirror_mode": {
    "name": "ipython",
    "version": 3
   },
   "file_extension": ".py",
   "mimetype": "text/x-python",
   "name": "python",
   "nbconvert_exporter": "python",
   "pygments_lexer": "ipython3",
   "version": "3.6.8"
  }
 },
 "nbformat": 4,
 "nbformat_minor": 2
}
