{
 "cells": [
  {
   "cell_type": "code",
   "execution_count": 1,
   "metadata": {},
   "outputs": [],
   "source": [
    "import pandas as pd\n",
    "import cv2\n",
    "import numpy as np\n",
    "import glob\n",
    "import matplotlib.pyplot as plt\n",
    "import face_recognition"
   ]
  },
  {
   "cell_type": "raw",
   "metadata": {},
   "source": [
    "'''\n",
    "sebelum install library face_recognition.. install dlib dulu dengan cara\n",
    "sudo apt-get update\n",
    "sudo apt-get install build-essential cmake\n",
    "sudo apt-get install libopenblas-dev liblapack-dev \n",
    "sudo apt-get install libx11-dev libgtk-3-dev\n",
    "pip install dlib\n",
    "pip install face_recognition\n",
    "'''"
   ]
  },
  {
   "cell_type": "code",
   "execution_count": 2,
   "metadata": {},
   "outputs": [],
   "source": [
    "dataset = 'dataset/datasets/'\n",
    "images = glob.glob(dataset+\"*/*\")\n",
    "np.random.shuffle(images)"
   ]
  },
  {
   "cell_type": "code",
   "execution_count": 3,
   "metadata": {},
   "outputs": [
    {
     "name": "stdout",
     "output_type": "stream",
     "text": [
      "Found error at ==>  dataset/datasets/cezar/17.jpg\n",
      "Found error at ==>  dataset/datasets/cezar/14.jpg\n",
      "Found error at ==>  dataset/datasets/cezar/5.jpg\n",
      "Found error at ==>  dataset/datasets/cezar/13.jpg\n",
      "Found error at ==>  dataset/datasets/zul/18.jpg\n",
      "Found error at ==>  dataset/datasets/toufan/6.jpg\n",
      "Found error at ==>  dataset/datasets/cezar/21.jpg\n",
      "Found error at ==>  dataset/datasets/cezar/18.jpg\n",
      "Found error at ==>  dataset/datasets/surahmin/15.png\n"
     ]
    }
   ],
   "source": [
    "data_face = []\n",
    "label_face = []\n",
    "for i in images:\n",
    "    img = i\n",
    "    lbl = img.split('/')[-2]\n",
    "    label_face.append(lbl)\n",
    "    image = face_recognition.load_image_file(i)\n",
    "    face_locations = face_recognition.face_locations(image)\n",
    "    try:\n",
    "        (top, right, bottom, left) = face_locations[0]\n",
    "        img_ = image[top:bottom, left:right, :]\n",
    "        img_ = cv2.resize(img_, (100, 100))\n",
    "        data_face.append(img_)\n",
    "    except:\n",
    "        print('Found error at ==> ', i)"
   ]
  },
  {
   "cell_type": "code",
   "execution_count": 4,
   "metadata": {},
   "outputs": [],
   "source": [
    "face_flip = []\n",
    "lbl_fl = []"
   ]
  },
  {
   "cell_type": "code",
   "execution_count": 5,
   "metadata": {},
   "outputs": [],
   "source": [
    "for j, im in zip(data_face, images):\n",
    "    for k in range(2):\n",
    "        flip = cv2.flip(j, k)\n",
    "        face_flip.append(flip)\n",
    "        lbl_fl_o = im.split('/')[-2]\n",
    "        lbl_fl.append(lbl_fl_o)"
   ]
  },
  {
   "cell_type": "code",
   "execution_count": 6,
   "metadata": {},
   "outputs": [],
   "source": [
    "# final_aug_img = []\n",
    "# final_aug_lbl = []\n",
    "# for a, aa in zip(face_flip, lbl_fl):\n",
    "#     (h, w) = a.shape[:2]\n",
    "#     center = (h // 2, w // 2)\n",
    "#     for deg in range(len(face_flip)):\n",
    "#         M = cv2.getRotationMatrix2D(center, deg, 1.0)\n",
    "#         rotated = cv2.warpAffine(a, M, (w, h))\n",
    "#         final_aug_img.append(rotated)\n",
    "#         final_aug_lbl.append(aa)"
   ]
  },
  {
   "cell_type": "code",
   "execution_count": 7,
   "metadata": {},
   "outputs": [],
   "source": [
    "# print('x_train : ', np.shape(final_aug_img))\n",
    "# print('y_train : ', np.shape(final_aug_lbl))"
   ]
  },
  {
   "cell_type": "code",
   "execution_count": 8,
   "metadata": {},
   "outputs": [],
   "source": [
    "# import pickle\n",
    "# f = open('face_image_aug.pickle', 'wb')\n",
    "# f.write(pickle.dumps(final_aug_img))\n",
    "# f.close()"
   ]
  },
  {
   "cell_type": "code",
   "execution_count": 9,
   "metadata": {},
   "outputs": [],
   "source": [
    "# import pickle\n",
    "# f = open('label_image_aug.pickle', 'wb')\n",
    "# f.write(pickle.dumps(label_face))\n",
    "# f.close()"
   ]
  },
  {
   "cell_type": "code",
   "execution_count": 10,
   "metadata": {},
   "outputs": [],
   "source": [
    "data_x_test = []\n",
    "data_y_test = []\n",
    "for i in images:\n",
    "    gbr = cv2.imread(i)\n",
    "    gbr = cv2.resize(gbr, (100, 100))\n",
    "    data_x_test.append(gbr)\n",
    "    lbl_test = i.split('/')[-2]\n",
    "    data_y_test.append(lbl_test)\n",
    "x_test = np.array(data_x_test)\n",
    "y_test = np.array(data_y_test)"
   ]
  },
  {
   "cell_type": "code",
   "execution_count": 11,
   "metadata": {},
   "outputs": [
    {
     "name": "stdout",
     "output_type": "stream",
     "text": [
      "(151, 100, 100, 3)\n",
      "(151,)\n"
     ]
    }
   ],
   "source": [
    "print(x_test.shape)\n",
    "print(y_test.shape)"
   ]
  },
  {
   "cell_type": "code",
   "execution_count": 12,
   "metadata": {},
   "outputs": [],
   "source": [
    "x_train = np.array(face_flip)\n",
    "y_train = np.array(lbl_fl)"
   ]
  },
  {
   "cell_type": "code",
   "execution_count": 13,
   "metadata": {},
   "outputs": [
    {
     "name": "stdout",
     "output_type": "stream",
     "text": [
      "(284, 100, 100, 3)\n",
      "(284,)\n"
     ]
    }
   ],
   "source": [
    "print(x_train.shape)\n",
    "print(y_train.shape)"
   ]
  },
  {
   "cell_type": "code",
   "execution_count": 14,
   "metadata": {},
   "outputs": [],
   "source": [
    "x_train = np.float32(x_train) / 255\n",
    "x_test = np.float32(x_test) / 255"
   ]
  },
  {
   "cell_type": "code",
   "execution_count": 15,
   "metadata": {},
   "outputs": [],
   "source": [
    "from sklearn.preprocessing import LabelBinarizer\n",
    "lb = LabelBinarizer()\n",
    "y_train_en = lb.fit_transform(y_train)\n",
    "y_test_en = lb.transform(y_test)"
   ]
  },
  {
   "cell_type": "code",
   "execution_count": 16,
   "metadata": {},
   "outputs": [],
   "source": [
    "# y_tst"
   ]
  },
  {
   "cell_type": "code",
   "execution_count": 17,
   "metadata": {},
   "outputs": [],
   "source": [
    "# from sklearn.model_selection import train_test_split\n",
    "# x_train, x_test, y_train, y_test = train_test_split(x, y_en, test_size=0.25, random_state=42)\n",
    "# # cek apakah sudah benar atau belum pemecaannya\n",
    "# print('x_train : ',x_train.shape)\n",
    "# print('x_test  : ', x_test.shape)\n",
    "# print('y_train : ', y_train.shape)\n",
    "# print('y_test  : ', y_test.shape)"
   ]
  },
  {
   "cell_type": "code",
   "execution_count": 18,
   "metadata": {},
   "outputs": [],
   "source": [
    "# # keras model\n",
    "# from keras.layers import Conv2D, MaxPool2D, Flatten, Dense\n",
    "# from keras.models import Input, Model, Sequential\n",
    "# # mulai membuat arsitektur NN dengan tipe fully connected layer\n",
    "# from keras.layers import BatchNormalization, Dropout\n",
    "# input_layer    = Input(shape=(x_train.shape[1:]))\n",
    "\n",
    "# batch = BatchNormalization(input_shape=x_train.shape[1:])(input_layer)\n",
    "# conv = Conv2D(16, kernel_size=(5,5), padding='SAME', activation='relu', name='conv_layer_1')(batch)\n",
    "# pool = MaxPool2D(pool_size=(4,4), name='maxpooling_1')(conv)\n",
    "# drop = Dropout(0.25)(pool)\n",
    "\n",
    "# batch1 = BatchNormalization(input_shape=x_train.shape[1:])(drop)\n",
    "# conv1 = Conv2D(16, kernel_size=(5,5), padding='SAME', activation='relu', name='conv_layer_2')(batch1)\n",
    "# pool1 = MaxPool2D(pool_size=(4,4), name='maxpooing_2')(conv1)\n",
    "# drop1 = Dropout(0.25)(pool1)\n",
    "\n",
    "# flatten_layer = Flatten(name='flatten_layer')(drop1)\n",
    "# full_con_layer = Dense(512, activation='relu', name='fully_connected_layer')(flatten_layer)\n",
    "# full_con_layer1 = Dense(128, activation='relu', name='fully_connected_layer_1')(full_con_layer)\n",
    "# drop3 = Dropout(0.5)(full_con_layer1)\n",
    "# output_layer = Dense(6, activation='softmax', name='output_layer')(drop3)\n",
    "# model = Model(inputs=input_layer, outputs=output_layer)\n",
    "# # model.summary()"
   ]
  },
  {
   "cell_type": "code",
   "execution_count": 19,
   "metadata": {},
   "outputs": [
    {
     "name": "stderr",
     "output_type": "stream",
     "text": [
      "Using TensorFlow backend.\n"
     ]
    }
   ],
   "source": [
    "  # keras model\n",
    "from keras.layers import Conv2D, MaxPool2D, Flatten, Dense, BatchNormalization, Dropout, AveragePooling2D, Activation\n",
    "from keras.models import Input, Model, Sequential\n",
    "\n",
    "leaky = 'relu'\n",
    "\n",
    "input_layer = Input(shape=x_train.shape[1:])\n",
    "batch0 = BatchNormalization()(input_layer)\n",
    "conv0 = Conv2D(filters=16, kernel_size=(3,3), strides=1, activation=leaky, padding='SAME')(batch0)\n",
    "max1 = MaxPool2D(pool_size=(2,2), strides=2)(conv0)\n",
    "\n",
    "batch2 = BatchNormalization()(max1)\n",
    "conv2 = Conv2D(filters=32, kernel_size=(3,3), strides=1, activation=leaky, padding='SAME')(batch2)\n",
    "max3 = MaxPool2D(pool_size=(2,2), strides=2)(conv2)\n",
    "\n",
    "batch4 = BatchNormalization()(max3)\n",
    "conv4 = Conv2D(filters=16, kernel_size=(1,1), strides=1, activation=leaky, padding='SAME')(batch4)\n",
    "\n",
    "batch5 = BatchNormalization()(conv4)\n",
    "conv5 = Conv2D(filters=128, kernel_size=(3,3), strides=1, activation=leaky, padding='SAME')(batch5)\n",
    "\n",
    "batch6 = BatchNormalization()(conv5)\n",
    "conv6 = Conv2D(filters=16, kernel_size=(1,1), strides=1, activation=leaky, padding='SAME')(batch6)\n",
    "\n",
    "batch7 = BatchNormalization()(conv6)\n",
    "conv7 = Conv2D(filters=128, kernel_size=(3,3), strides=1, activation=leaky, padding='SAME')(batch7)\n",
    "\n",
    "max8 = MaxPool2D(pool_size=(2,2), strides=2)(conv7)\n",
    "\n",
    "batch9 = BatchNormalization()(max8)\n",
    "conv9 = Conv2D(filters=32, kernel_size=(1,1), strides=1, activation=leaky, padding='SAME')(batch9)\n",
    "\n",
    "batch10 = BatchNormalization()(conv9)\n",
    "conv10 = Conv2D(filters=256, kernel_size=(3,3), strides=1, activation=leaky, padding='SAME')(batch10)\n",
    "\n",
    "batch11 = BatchNormalization()(conv10)\n",
    "conv11 = Conv2D(filters=32, kernel_size=(1,1), strides=1, activation=leaky, padding='SAME')(conv10)\n",
    "\n",
    "batch12 = BatchNormalization()(conv11)\n",
    "conv12 = Conv2D(filters=256, kernel_size=(3,3), strides=1, activation=leaky, padding='SAME')(batch12)\n",
    "\n",
    "max13 = MaxPool2D(pool_size=(2,2), strides=2)(conv12)\n",
    "\n",
    "batch14 = BatchNormalization()(max13)\n",
    "conv14 = Conv2D(filters=64, kernel_size=(1,1), strides=1, activation=leaky, padding='SAME')(batch14)\n",
    "\n",
    "batch15 = BatchNormalization()(conv14)\n",
    "conv15 = Conv2D(filters=512, kernel_size=(3,3), strides=1, activation=leaky, padding='SAME')(batch15)\n",
    "\n",
    "batch16 = BatchNormalization()(conv15)\n",
    "conv16 = Conv2D(filters=64, kernel_size=(1,1), strides=1, activation=leaky, padding='SAME')(batch16)\n",
    "\n",
    "batch17 = BatchNormalization()(conv16)\n",
    "conv17 = Conv2D(filters=512, kernel_size=(3,3), strides=1, activation=leaky, padding='SAME')(batch17)\n",
    "\n",
    "batch18 = BatchNormalization()(conv17)\n",
    "conv18 = Conv2D(filters=128, kernel_size=(1,1), strides=1, activation=leaky, padding='SAME')(batch18)\n",
    "\n",
    "batch19 = BatchNormalization()(conv18)\n",
    "conv19 = Conv2D(filters=2, kernel_size=(1,1), strides=1, activation=leaky, padding='SAME')(batch19)\n",
    "\n",
    "avg = AveragePooling2D()(conv19)\n",
    "flat = Flatten()(avg)\n",
    "fc = Dense(6)(flat)\n",
    "output_layer = Activation(activation='sigmoid')(fc)\n",
    "model = Model(inputs=input_layer, outputs=output_layer)"
   ]
  },
  {
   "cell_type": "code",
   "execution_count": 20,
   "metadata": {},
   "outputs": [],
   "source": [
    "import shutil\n",
    "file_tensorboard = 'tboard'\n",
    "shutil.rmtree(file_tensorboard+'/')"
   ]
  },
  {
   "cell_type": "code",
   "execution_count": 21,
   "metadata": {},
   "outputs": [],
   "source": [
    "import keras\n",
    "from keras.callbacks import ReduceLROnPlateau\n",
    "Tensorboard = keras.callbacks.TensorBoard(log_dir='./'+file_tensorboard, histogram_freq=1,  write_graph=True, write_images=False)\n",
    "\n",
    "# Save the checkpoint in the /output folder\n",
    "# filepath = \"/keras-ckpt/mnist-cnn-best.hdf5\"\n",
    "\n",
    "# # Keep only a single checkpoint, the best over test accuracy.\n",
    "# checkpoint = keras.callbacks.ModelCheckpoint(filepath,\n",
    "#                             monitor='val_acc',\n",
    "#                             verbose=1,\n",
    "#                             save_best_only=True,\n",
    "#                             mode='max')\n",
    "\n",
    "from keras.optimizers import SGD\n",
    "opt = SGD(lr=2)\n",
    "reduce_lr = ReduceLROnPlateau(monitor='val_loss', factor=0.2,\n",
    "                              patience=5, min_lr=0.001)\n",
    "\n",
    "model.compile(loss='categorical_crossentropy', optimizer='Adam', metrics=['accuracy'])"
   ]
  },
  {
   "cell_type": "code",
   "execution_count": 22,
   "metadata": {},
   "outputs": [
    {
     "name": "stdout",
     "output_type": "stream",
     "text": [
      "Train on 284 samples, validate on 151 samples\n",
      "Epoch 1/100\n",
      "284/284 [==============================] - 7s 24ms/step - loss: 1.9151 - acc: 0.1514 - val_loss: 4.8655 - val_acc: 0.1192\n",
      "Epoch 2/100\n",
      "284/284 [==============================] - 3s 11ms/step - loss: 1.7570 - acc: 0.2359 - val_loss: 4.6288 - val_acc: 0.1523\n",
      "Epoch 3/100\n",
      "284/284 [==============================] - 3s 11ms/step - loss: 1.5939 - acc: 0.3345 - val_loss: 3.3134 - val_acc: 0.1722\n",
      "Epoch 4/100\n",
      "284/284 [==============================] - 3s 11ms/step - loss: 1.4326 - acc: 0.4542 - val_loss: 3.7666 - val_acc: 0.1854\n",
      "Epoch 5/100\n",
      "284/284 [==============================] - 3s 11ms/step - loss: 1.2405 - acc: 0.5669 - val_loss: 4.2713 - val_acc: 0.1987\n",
      "Epoch 6/100\n",
      "284/284 [==============================] - 3s 11ms/step - loss: 1.0574 - acc: 0.6690 - val_loss: 4.6483 - val_acc: 0.1656\n",
      "Epoch 7/100\n",
      "284/284 [==============================] - 3s 12ms/step - loss: 0.9319 - acc: 0.6937 - val_loss: 3.9574 - val_acc: 0.1921\n",
      "Epoch 8/100\n",
      "284/284 [==============================] - 3s 11ms/step - loss: 0.8548 - acc: 0.7218 - val_loss: 3.2352 - val_acc: 0.1589\n",
      "Epoch 9/100\n",
      "284/284 [==============================] - 3s 11ms/step - loss: 0.7409 - acc: 0.7606 - val_loss: 2.4907 - val_acc: 0.2450\n",
      "Epoch 10/100\n",
      "284/284 [==============================] - 3s 11ms/step - loss: 0.6864 - acc: 0.7923 - val_loss: 3.2291 - val_acc: 0.2119\n",
      "Epoch 11/100\n",
      "284/284 [==============================] - 3s 11ms/step - loss: 0.7593 - acc: 0.7289 - val_loss: 6.3675 - val_acc: 0.2185\n",
      "Epoch 12/100\n",
      "284/284 [==============================] - 3s 11ms/step - loss: 0.8295 - acc: 0.7148 - val_loss: 6.8287 - val_acc: 0.1788\n",
      "Epoch 13/100\n",
      "284/284 [==============================] - 3s 11ms/step - loss: 0.7205 - acc: 0.7606 - val_loss: 7.4170 - val_acc: 0.1457\n",
      "Epoch 14/100\n",
      "284/284 [==============================] - 3s 11ms/step - loss: 0.8029 - acc: 0.6901 - val_loss: 5.6849 - val_acc: 0.1391\n",
      "Epoch 15/100\n",
      "284/284 [==============================] - 3s 11ms/step - loss: 0.7279 - acc: 0.7394 - val_loss: 4.4810 - val_acc: 0.1325\n",
      "Epoch 16/100\n",
      "284/284 [==============================] - 3s 11ms/step - loss: 0.5327 - acc: 0.7887 - val_loss: 6.5354 - val_acc: 0.1192\n",
      "Epoch 17/100\n",
      "284/284 [==============================] - 3s 11ms/step - loss: 0.4787 - acc: 0.8697 - val_loss: 6.8459 - val_acc: 0.1722\n",
      "Epoch 18/100\n",
      "284/284 [==============================] - 3s 11ms/step - loss: 0.3926 - acc: 0.8838 - val_loss: 5.0944 - val_acc: 0.1854\n",
      "Epoch 19/100\n",
      "284/284 [==============================] - 3s 11ms/step - loss: 0.4060 - acc: 0.9085 - val_loss: 4.7772 - val_acc: 0.1854\n",
      "Epoch 20/100\n",
      "284/284 [==============================] - 3s 11ms/step - loss: 0.2805 - acc: 0.9155 - val_loss: 4.0730 - val_acc: 0.1921\n",
      "Epoch 21/100\n",
      "284/284 [==============================] - 3s 11ms/step - loss: 0.2120 - acc: 0.9296 - val_loss: 3.4641 - val_acc: 0.2185\n",
      "Epoch 22/100\n",
      "284/284 [==============================] - 3s 11ms/step - loss: 0.2185 - acc: 0.9296 - val_loss: 3.5975 - val_acc: 0.2318\n",
      "Epoch 23/100\n",
      "284/284 [==============================] - 3s 11ms/step - loss: 0.1540 - acc: 0.9648 - val_loss: 4.3459 - val_acc: 0.1854\n",
      "Epoch 24/100\n",
      "284/284 [==============================] - 3s 11ms/step - loss: 0.1785 - acc: 0.9472 - val_loss: 4.0356 - val_acc: 0.1921\n",
      "Epoch 25/100\n",
      "284/284 [==============================] - 3s 12ms/step - loss: 0.1636 - acc: 0.9401 - val_loss: 3.7804 - val_acc: 0.2119\n",
      "Epoch 26/100\n",
      "284/284 [==============================] - 3s 11ms/step - loss: 0.2328 - acc: 0.9401 - val_loss: 4.0311 - val_acc: 0.2053\n",
      "Epoch 27/100\n",
      "284/284 [==============================] - 3s 11ms/step - loss: 0.2181 - acc: 0.9331 - val_loss: 4.0456 - val_acc: 0.2318\n",
      "Epoch 28/100\n",
      "284/284 [==============================] - 3s 11ms/step - loss: 0.3014 - acc: 0.9120 - val_loss: 3.5985 - val_acc: 0.2384\n",
      "Epoch 29/100\n",
      "284/284 [==============================] - 3s 11ms/step - loss: 0.2455 - acc: 0.9472 - val_loss: 5.5772 - val_acc: 0.2252\n",
      "Epoch 30/100\n",
      "284/284 [==============================] - 3s 11ms/step - loss: 0.1979 - acc: 0.9507 - val_loss: 7.9255 - val_acc: 0.2119\n",
      "Epoch 31/100\n",
      "284/284 [==============================] - 3s 11ms/step - loss: 0.1286 - acc: 0.9718 - val_loss: 9.0852 - val_acc: 0.2053\n",
      "Epoch 32/100\n",
      "284/284 [==============================] - 3s 11ms/step - loss: 0.1292 - acc: 0.9718 - val_loss: 8.0507 - val_acc: 0.2053\n",
      "Epoch 33/100\n",
      "284/284 [==============================] - 3s 11ms/step - loss: 0.1234 - acc: 0.9648 - val_loss: 7.4737 - val_acc: 0.1656\n",
      "Epoch 34/100\n",
      "284/284 [==============================] - 3s 11ms/step - loss: 0.1206 - acc: 0.9577 - val_loss: 7.5862 - val_acc: 0.1523\n",
      "Epoch 35/100\n",
      "284/284 [==============================] - 3s 11ms/step - loss: 0.0983 - acc: 0.9683 - val_loss: 6.8501 - val_acc: 0.1722\n",
      "Epoch 36/100\n",
      "284/284 [==============================] - 3s 11ms/step - loss: 0.0749 - acc: 0.9824 - val_loss: 6.2490 - val_acc: 0.1854\n",
      "Epoch 37/100\n",
      "284/284 [==============================] - 3s 11ms/step - loss: 0.0578 - acc: 0.9824 - val_loss: 6.2505 - val_acc: 0.1854\n",
      "Epoch 38/100\n",
      "284/284 [==============================] - 3s 11ms/step - loss: 0.0757 - acc: 0.9789 - val_loss: 6.0092 - val_acc: 0.1589\n",
      "Epoch 39/100\n",
      "284/284 [==============================] - 3s 11ms/step - loss: 0.0584 - acc: 0.9718 - val_loss: 6.6417 - val_acc: 0.1921\n",
      "Epoch 40/100\n",
      "284/284 [==============================] - 3s 11ms/step - loss: 0.1368 - acc: 0.9577 - val_loss: 7.0269 - val_acc: 0.1722\n",
      "Epoch 41/100\n",
      "284/284 [==============================] - 3s 11ms/step - loss: 0.1172 - acc: 0.9613 - val_loss: 6.1182 - val_acc: 0.1854\n",
      "Epoch 42/100\n",
      "284/284 [==============================] - 3s 11ms/step - loss: 0.1761 - acc: 0.9401 - val_loss: 6.3189 - val_acc: 0.1457\n",
      "Epoch 43/100\n",
      "284/284 [==============================] - 3s 11ms/step - loss: 0.0712 - acc: 0.9859 - val_loss: 5.8519 - val_acc: 0.1854\n",
      "Epoch 44/100\n",
      "284/284 [==============================] - 3s 11ms/step - loss: 0.1174 - acc: 0.9683 - val_loss: 5.2306 - val_acc: 0.2053\n",
      "Epoch 45/100\n",
      "284/284 [==============================] - 3s 11ms/step - loss: 0.1173 - acc: 0.9683 - val_loss: 6.9366 - val_acc: 0.1987\n",
      "Epoch 46/100\n",
      "284/284 [==============================] - 3s 11ms/step - loss: 0.1626 - acc: 0.9437 - val_loss: 7.9805 - val_acc: 0.2053\n",
      "Epoch 47/100\n",
      "284/284 [==============================] - 3s 11ms/step - loss: 0.1143 - acc: 0.9577 - val_loss: 7.0404 - val_acc: 0.2318\n",
      "Epoch 48/100\n",
      "284/284 [==============================] - 3s 11ms/step - loss: 0.1783 - acc: 0.9296 - val_loss: 6.4599 - val_acc: 0.1788\n",
      "Epoch 49/100\n",
      "284/284 [==============================] - 3s 11ms/step - loss: 0.3135 - acc: 0.9014 - val_loss: 6.7326 - val_acc: 0.1987\n",
      "Epoch 50/100\n",
      "284/284 [==============================] - 3s 11ms/step - loss: 0.2626 - acc: 0.9190 - val_loss: 6.7234 - val_acc: 0.2119\n",
      "Epoch 51/100\n",
      "284/284 [==============================] - 3s 11ms/step - loss: 0.2354 - acc: 0.9155 - val_loss: 5.7508 - val_acc: 0.1192\n",
      "Epoch 52/100\n",
      "284/284 [==============================] - 3s 11ms/step - loss: 0.2081 - acc: 0.9331 - val_loss: 5.5237 - val_acc: 0.1589\n",
      "Epoch 53/100\n",
      "284/284 [==============================] - 3s 11ms/step - loss: 0.1478 - acc: 0.9437 - val_loss: 7.0140 - val_acc: 0.1589\n",
      "Epoch 54/100\n",
      "284/284 [==============================] - 4s 12ms/step - loss: 0.1245 - acc: 0.9613 - val_loss: 7.8378 - val_acc: 0.1854\n",
      "Epoch 55/100\n",
      "284/284 [==============================] - 3s 12ms/step - loss: 0.0985 - acc: 0.9648 - val_loss: 8.1038 - val_acc: 0.2318\n",
      "Epoch 56/100\n",
      "284/284 [==============================] - 3s 11ms/step - loss: 0.0955 - acc: 0.9683 - val_loss: 7.5199 - val_acc: 0.2119\n",
      "Epoch 57/100\n",
      "284/284 [==============================] - 3s 11ms/step - loss: 0.0993 - acc: 0.9683 - val_loss: 7.2802 - val_acc: 0.1457\n",
      "Epoch 58/100\n",
      "284/284 [==============================] - 3s 11ms/step - loss: 0.0739 - acc: 0.9824 - val_loss: 7.8674 - val_acc: 0.1656\n",
      "Epoch 59/100\n",
      "284/284 [==============================] - 3s 11ms/step - loss: 0.0468 - acc: 0.9824 - val_loss: 8.3822 - val_acc: 0.1722\n",
      "Epoch 60/100\n",
      "284/284 [==============================] - 3s 11ms/step - loss: 0.0412 - acc: 0.9859 - val_loss: 8.0815 - val_acc: 0.1722\n",
      "Epoch 61/100\n",
      "284/284 [==============================] - 3s 11ms/step - loss: 0.0356 - acc: 0.9930 - val_loss: 7.2845 - val_acc: 0.1457\n",
      "Epoch 62/100\n",
      "284/284 [==============================] - 3s 11ms/step - loss: 0.0235 - acc: 0.9965 - val_loss: 6.9069 - val_acc: 0.1722\n",
      "Epoch 63/100\n",
      "284/284 [==============================] - 3s 11ms/step - loss: 0.0151 - acc: 1.0000 - val_loss: 6.9860 - val_acc: 0.1788\n",
      "Epoch 64/100\n",
      "284/284 [==============================] - 3s 11ms/step - loss: 0.0182 - acc: 1.0000 - val_loss: 7.1251 - val_acc: 0.1788\n",
      "Epoch 65/100\n",
      "284/284 [==============================] - 3s 11ms/step - loss: 0.0217 - acc: 0.9965 - val_loss: 7.5226 - val_acc: 0.1854\n",
      "Epoch 66/100\n",
      "284/284 [==============================] - 3s 12ms/step - loss: 0.0076 - acc: 1.0000 - val_loss: 8.2293 - val_acc: 0.1854\n",
      "Epoch 67/100\n",
      "284/284 [==============================] - 4s 13ms/step - loss: 0.0168 - acc: 0.9965 - val_loss: 8.1505 - val_acc: 0.1921\n",
      "Epoch 68/100\n",
      "284/284 [==============================] - 3s 11ms/step - loss: 0.0130 - acc: 1.0000 - val_loss: 6.7623 - val_acc: 0.2053\n",
      "Epoch 69/100\n",
      "284/284 [==============================] - 3s 11ms/step - loss: 0.0157 - acc: 0.9965 - val_loss: 5.8945 - val_acc: 0.1987\n",
      "Epoch 70/100\n",
      "284/284 [==============================] - 3s 11ms/step - loss: 0.0162 - acc: 0.9965 - val_loss: 5.5416 - val_acc: 0.1788\n",
      "Epoch 71/100\n",
      "284/284 [==============================] - 3s 11ms/step - loss: 0.0080 - acc: 1.0000 - val_loss: 5.6722 - val_acc: 0.1457\n",
      "Epoch 72/100\n",
      "284/284 [==============================] - 3s 11ms/step - loss: 0.0060 - acc: 1.0000 - val_loss: 5.8873 - val_acc: 0.1391\n",
      "Epoch 73/100\n",
      "284/284 [==============================] - 3s 11ms/step - loss: 0.0042 - acc: 1.0000 - val_loss: 6.0113 - val_acc: 0.1391\n",
      "Epoch 74/100\n",
      "284/284 [==============================] - 3s 11ms/step - loss: 0.0031 - acc: 1.0000 - val_loss: 6.0998 - val_acc: 0.1589\n",
      "Epoch 75/100\n",
      "284/284 [==============================] - 3s 11ms/step - loss: 0.0102 - acc: 0.9965 - val_loss: 6.0988 - val_acc: 0.1656\n",
      "Epoch 76/100\n",
      "284/284 [==============================] - 3s 11ms/step - loss: 0.0087 - acc: 1.0000 - val_loss: 5.9729 - val_acc: 0.1788\n",
      "Epoch 77/100\n",
      "284/284 [==============================] - 3s 11ms/step - loss: 0.0173 - acc: 0.9965 - val_loss: 5.8889 - val_acc: 0.1589\n",
      "Epoch 78/100\n",
      "284/284 [==============================] - 3s 11ms/step - loss: 0.0096 - acc: 0.9965 - val_loss: 5.8920 - val_acc: 0.1722\n",
      "Epoch 79/100\n",
      "284/284 [==============================] - 3s 11ms/step - loss: 0.0032 - acc: 1.0000 - val_loss: 5.9337 - val_acc: 0.1788\n",
      "Epoch 80/100\n",
      "284/284 [==============================] - 3s 11ms/step - loss: 0.0064 - acc: 1.0000 - val_loss: 6.0872 - val_acc: 0.1788\n",
      "Epoch 81/100\n",
      "284/284 [==============================] - 3s 11ms/step - loss: 0.0020 - acc: 1.0000 - val_loss: 6.2784 - val_acc: 0.1788\n",
      "Epoch 82/100\n",
      "284/284 [==============================] - 3s 11ms/step - loss: 0.0021 - acc: 1.0000 - val_loss: 6.3939 - val_acc: 0.1921\n",
      "Epoch 83/100\n",
      "284/284 [==============================] - 3s 12ms/step - loss: 0.0026 - acc: 1.0000 - val_loss: 6.4683 - val_acc: 0.1987\n",
      "Epoch 84/100\n",
      "284/284 [==============================] - 3s 11ms/step - loss: 0.0014 - acc: 1.0000 - val_loss: 6.5364 - val_acc: 0.1921\n",
      "Epoch 85/100\n",
      "284/284 [==============================] - 3s 11ms/step - loss: 0.0022 - acc: 1.0000 - val_loss: 6.5815 - val_acc: 0.1854\n",
      "Epoch 86/100\n",
      "284/284 [==============================] - 3s 11ms/step - loss: 0.0030 - acc: 1.0000 - val_loss: 6.6495 - val_acc: 0.1854\n",
      "Epoch 87/100\n",
      "284/284 [==============================] - 3s 11ms/step - loss: 0.0031 - acc: 1.0000 - val_loss: 6.7593 - val_acc: 0.1788\n",
      "Epoch 88/100\n",
      "284/284 [==============================] - 3s 11ms/step - loss: 0.0031 - acc: 1.0000 - val_loss: 6.8688 - val_acc: 0.1854\n",
      "Epoch 89/100\n",
      "284/284 [==============================] - 3s 11ms/step - loss: 8.7341e-04 - acc: 1.0000 - val_loss: 6.9039 - val_acc: 0.1854\n",
      "Epoch 90/100\n",
      "284/284 [==============================] - 3s 11ms/step - loss: 0.0016 - acc: 1.0000 - val_loss: 6.9179 - val_acc: 0.1854\n",
      "Epoch 91/100\n",
      "284/284 [==============================] - 3s 11ms/step - loss: 8.9135e-04 - acc: 1.0000 - val_loss: 6.9236 - val_acc: 0.1921\n",
      "Epoch 92/100\n",
      "284/284 [==============================] - 3s 11ms/step - loss: 0.0010 - acc: 1.0000 - val_loss: 6.9369 - val_acc: 0.1921\n",
      "Epoch 93/100\n",
      "284/284 [==============================] - 3s 11ms/step - loss: 0.0013 - acc: 1.0000 - val_loss: 6.9499 - val_acc: 0.1921\n",
      "Epoch 94/100\n",
      "284/284 [==============================] - 3s 11ms/step - loss: 0.0011 - acc: 1.0000 - val_loss: 6.9555 - val_acc: 0.1854\n",
      "Epoch 95/100\n",
      "284/284 [==============================] - 3s 11ms/step - loss: 0.0010 - acc: 1.0000 - val_loss: 6.9628 - val_acc: 0.1921\n",
      "Epoch 96/100\n",
      "284/284 [==============================] - 3s 11ms/step - loss: 9.5193e-04 - acc: 1.0000 - val_loss: 6.9741 - val_acc: 0.1987\n",
      "Epoch 97/100\n",
      "284/284 [==============================] - 3s 11ms/step - loss: 8.8711e-04 - acc: 1.0000 - val_loss: 6.9874 - val_acc: 0.1987\n",
      "Epoch 98/100\n",
      "284/284 [==============================] - 3s 11ms/step - loss: 8.4432e-04 - acc: 1.0000 - val_loss: 6.9828 - val_acc: 0.1987\n",
      "Epoch 99/100\n",
      "284/284 [==============================] - 3s 11ms/step - loss: 4.1522e-04 - acc: 1.0000 - val_loss: 6.9776 - val_acc: 0.1987\n",
      "Epoch 100/100\n",
      "284/284 [==============================] - 3s 11ms/step - loss: 6.0517e-04 - acc: 1.0000 - val_loss: 6.9768 - val_acc: 0.1987\n"
     ]
    }
   ],
   "source": [
    "history = model.fit(x_train, y_train_en, \n",
    "                    batch_size=64, epochs=100,\n",
    "                   validation_data=[x_test, y_test_en], \n",
    "                    callbacks=[Tensorboard, reduce_lr])\n",
    "model.save('face_recognition_model.h5')"
   ]
  },
  {
   "cell_type": "code",
   "execution_count": 24,
   "metadata": {},
   "outputs": [
    {
     "data": {
      "image/png": "[encoded data removed]",
      "text/plain": [
       "<Figure size 1080x216 with 2 Axes>"
      ]
     },
     "metadata": {
      "needs_background": "light"
     },
     "output_type": "display_data"
    }
   ],
   "source": [
    "# nilai-nilai loss-nya\n",
    "loss = history.history['loss']\n",
    "\n",
    "# nilai-nilai val_loss-nya\n",
    "val_loss = history.history['val_loss']\n",
    "\n",
    "# nilai-nilai akurasi-nya\n",
    "acc = history.history['acc']\n",
    "\n",
    "# nilai-nilai val_acc-nya\n",
    "val_acc = history.history['val_acc']\n",
    "\n",
    "# menentukan sumbu x nya dari 0 sampai dengan banyaknya jumlah nilai loss/acc\n",
    "sumbu_x = np.arange(0, len(loss))\n",
    "\n",
    "# memasukan library plotting (matplotlib)\n",
    "import matplotlib.pyplot as plt\n",
    "\n",
    "# grafik plot untuk melihat loss\n",
    "plt.figure(figsize=(15,3))\n",
    "plt.subplot(1,2,1)\n",
    "plt.title('grafik loss')\n",
    "plt.plot(sumbu_x, loss, label='loss')\n",
    "plt.plot(sumbu_x, val_loss, label='val_loss')\n",
    "plt.legend()\n",
    "\n",
    "# grafik plot untuk melihat akurasinya\n",
    "plt.subplot(1,2,2)\n",
    "plt.title('grafik acc')\n",
    "plt.plot(sumbu_x, acc, label='acc')\n",
    "plt.plot(sumbu_x, val_acc, label='val_acc')\n",
    "plt.legend()\n",
    "plt.show()"
   ]
  },
  {
   "cell_type": "code",
   "execution_count": 37,
   "metadata": {},
   "outputs": [
    {
     "name": "stdout",
     "output_type": "stream",
     "text": [
      "284/284 [==============================] - 1s 2ms/step\n",
      "loss_train : 0.00031\n",
      "acc_train  : 100.00\n",
      "151/151 [==============================] - 0s 2ms/step\n",
      "loss_test : 6.9768\n",
      "acc_test  : 19.87\n"
     ]
    }
   ],
   "source": [
    "loss_train, acc_train = model.evaluate(x_train, y_train_en)\n",
    "print('loss_train :', round(loss_train, 5))\n",
    "print('acc_train  : %.2f' % (acc_train * 100))\n",
    "loss_test, acc_test = model.evaluate(x_test, y_test_en)\n",
    "print('loss_test :', round(loss_test, 5))\n",
    "print('acc_test  : %.2f' % (acc_test * 100))"
   ]
  },
  {
   "cell_type": "code",
   "execution_count": null,
   "metadata": {},
   "outputs": [],
   "source": []
  }
 ],
 "metadata": {
  "kernelspec": {
   "display_name": "Python [conda env:dnn]",
   "language": "python",
   "name": "conda-env-dnn-py"
  },
  "language_info": {
   "codemirror_mode": {
    "name": "ipython",
    "version": 3
   },
   "file_extension": ".py",
   "mimetype": "text/x-python",
   "name": "python",
   "nbconvert_exporter": "python",
   "pygments_lexer": "ipython3",
   "version": "3.6.8"
  }
 },
 "nbformat": 4,
 "nbformat_minor": 2
}
